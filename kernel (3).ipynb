{
  "cells": [
    {
      "metadata": {
        "_uuid": "8f2839f25d086af736a60e9eeb907d3b93b6e0e5",
        "_cell_guid": "b1076dfc-b9ad-4769-8c92-a6c4dae69d19",
        "trusted": true
      },
      "cell_type": "code",
      "source": "# This Python 3 environment comes with many helpful analytics libraries installed\n# It is defined by the kaggle/python docker image: https://github.com/kaggle/docker-python\n# For example, here's several helpful packages to load in \n\nimport numpy as np # linear algebra\nimport pandas as pd # data processing, CSV file I/O (e.g. pd.read_csv)\n\n# Input data files are available in the \"../input/\" directory.\n# For example, running this (by clicking run or pressing Shift+Enter) will list the files in the input directory\n\nimport os\nprint(os.listdir(\"../input\"))\n\n# Any results you write to the current directory are saved as output.",
      "execution_count": null,
      "outputs": []
    },
    {
      "metadata": {
        "_cell_guid": "79c7e3d0-c299-4dcb-8224-4455121ee9b0",
        "_uuid": "d629ff2d2480ee46fbb7e2d37f6b5fab8052498a",
        "trusted": true
      },
      "cell_type": "code",
      "source": "df = pd.read_csv('../input/super_bowls - Sheet1.csv')\ndf.head()\ndf.columns",
      "execution_count": null,
      "outputs": []
    },
    {
      "metadata": {
        "trusted": true,
        "_uuid": "419ecc4d757037d1bdda1697ccab78588060d0d9"
      },
      "cell_type": "code",
      "source": "from bokeh.plotting import figure\nfrom bokeh.io import curdoc\nfrom bokeh.themes import built_in_themes\nfrom bokeh.models import Range1d, PanTool, ResetTool, HoverTool, ColumnDataSource, LabelSet, HoverTool\nfrom bokeh.embed import file_html\nfrom bokeh.resources import CDN\ndf = df.rename(columns=({ 'Pts.1' : 'Ptsloss'}))\ndf['Margin'] = df['Pts'] - df['Ptsloss']\ndf['Total'] = df['Pts'] - df['Ptsloss']\n\n\ns = ColumnDataSource(df)\n\n\n#Define the output file path\n\ncurdoc().theme = 'dark_minimal'\n\ncurdoc().theme = 'dark_minimal'\n#Create the figure object\nf =figure(title='Super Bowls by Winning Score and Margin of Victory')\nf.xaxis.axis_label = 'Winning Score'\nf.yaxis.axis_label = 'Margin of Victory'\nhover = HoverTool(tooltips=[(\"Super Bowl\",\"@SB\"),('Date',\"@Date\"),('Winner','@Winner'),('Loser','@Loser'),('Winning Score','@Pts'),('Losing Score','@Ptsloss')])\nf.add_tools(hover)\n\nf.circle(x=\"Pts\", y=\"Margin\",size=10,  fill_alpha=0.8, \n line_dash=[5,3], source=s)\n\n\ncurdoc.theme = 'dark_minimal'\nhtml = file_html(f, CDN, \"test\")\nprint(html)",
      "execution_count": null,
      "outputs": []
    }
  ],
  "metadata": {
    "kernelspec": {
      "display_name": "Python 3",
      "language": "python",
      "name": "python3"
    },
    "language_info": {
      "name": "python",
      "version": "3.6.4",
      "mimetype": "text/x-python",
      "codemirror_mode": {
        "name": "ipython",
        "version": 3
      },
      "pygments_lexer": "ipython3",
      "nbconvert_exporter": "python",
      "file_extension": ".py"
    }
  },
  "nbformat": 4,
  "nbformat_minor": 1
}